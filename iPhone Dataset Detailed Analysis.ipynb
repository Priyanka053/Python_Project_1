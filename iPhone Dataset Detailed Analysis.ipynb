{
 "cells": [
  {
   "cell_type": "code",
   "execution_count": 1,
   "id": "d18166c0-12bc-496b-9588-d679d2c63abd",
   "metadata": {},
   "outputs": [],
   "source": [
    "import pandas as pd"
   ]
  },
  {
   "cell_type": "code",
   "execution_count": 3,
   "id": "0cb3d4bf-cba9-46c4-a991-5f1a6e0c8023",
   "metadata": {},
   "outputs": [],
   "source": [
    "df=pd.read_csv('apple_products.csv')"
   ]
  },
  {
   "cell_type": "code",
   "execution_count": 4,
   "id": "324a8dd3-bb24-4ba3-b380-4743b8ac5b4a",
   "metadata": {},
   "outputs": [
    {
     "data": {
      "text/html": [
       "<div>\n",
       "<style scoped>\n",
       "    .dataframe tbody tr th:only-of-type {\n",
       "        vertical-align: middle;\n",
       "    }\n",
       "\n",
       "    .dataframe tbody tr th {\n",
       "        vertical-align: top;\n",
       "    }\n",
       "\n",
       "    .dataframe thead th {\n",
       "        text-align: right;\n",
       "    }\n",
       "</style>\n",
       "<table border=\"1\" class=\"dataframe\">\n",
       "  <thead>\n",
       "    <tr style=\"text-align: right;\">\n",
       "      <th></th>\n",
       "      <th>Product Name</th>\n",
       "      <th>Product URL</th>\n",
       "      <th>Brand</th>\n",
       "      <th>Sale Price</th>\n",
       "      <th>Mrp</th>\n",
       "      <th>Discount Percentage</th>\n",
       "      <th>Number Of Ratings</th>\n",
       "      <th>Number Of Reviews</th>\n",
       "      <th>Upc</th>\n",
       "      <th>Star Rating</th>\n",
       "      <th>Ram</th>\n",
       "    </tr>\n",
       "  </thead>\n",
       "  <tbody>\n",
       "    <tr>\n",
       "      <th>0</th>\n",
       "      <td>APPLE iPhone 8 Plus (Gold, 64 GB)</td>\n",
       "      <td>https://www.flipkart.com/apple-iphone-8-plus-g...</td>\n",
       "      <td>Apple</td>\n",
       "      <td>49900</td>\n",
       "      <td>49900</td>\n",
       "      <td>0</td>\n",
       "      <td>3431</td>\n",
       "      <td>356</td>\n",
       "      <td>MOBEXRGV7EHHTGUH</td>\n",
       "      <td>4.6</td>\n",
       "      <td>2 GB</td>\n",
       "    </tr>\n",
       "    <tr>\n",
       "      <th>1</th>\n",
       "      <td>APPLE iPhone 8 Plus (Space Grey, 256 GB)</td>\n",
       "      <td>https://www.flipkart.com/apple-iphone-8-plus-s...</td>\n",
       "      <td>Apple</td>\n",
       "      <td>84900</td>\n",
       "      <td>84900</td>\n",
       "      <td>0</td>\n",
       "      <td>3431</td>\n",
       "      <td>356</td>\n",
       "      <td>MOBEXRGVAC6TJT4F</td>\n",
       "      <td>4.6</td>\n",
       "      <td>2 GB</td>\n",
       "    </tr>\n",
       "    <tr>\n",
       "      <th>2</th>\n",
       "      <td>APPLE iPhone 8 Plus (Silver, 256 GB)</td>\n",
       "      <td>https://www.flipkart.com/apple-iphone-8-plus-s...</td>\n",
       "      <td>Apple</td>\n",
       "      <td>84900</td>\n",
       "      <td>84900</td>\n",
       "      <td>0</td>\n",
       "      <td>3431</td>\n",
       "      <td>356</td>\n",
       "      <td>MOBEXRGVGETABXWZ</td>\n",
       "      <td>4.6</td>\n",
       "      <td>2 GB</td>\n",
       "    </tr>\n",
       "    <tr>\n",
       "      <th>3</th>\n",
       "      <td>APPLE iPhone 8 (Silver, 256 GB)</td>\n",
       "      <td>https://www.flipkart.com/apple-iphone-8-silver...</td>\n",
       "      <td>Apple</td>\n",
       "      <td>77000</td>\n",
       "      <td>77000</td>\n",
       "      <td>0</td>\n",
       "      <td>11202</td>\n",
       "      <td>794</td>\n",
       "      <td>MOBEXRGVMZWUHCBA</td>\n",
       "      <td>4.5</td>\n",
       "      <td>2 GB</td>\n",
       "    </tr>\n",
       "    <tr>\n",
       "      <th>4</th>\n",
       "      <td>APPLE iPhone 8 (Gold, 256 GB)</td>\n",
       "      <td>https://www.flipkart.com/apple-iphone-8-gold-2...</td>\n",
       "      <td>Apple</td>\n",
       "      <td>77000</td>\n",
       "      <td>77000</td>\n",
       "      <td>0</td>\n",
       "      <td>11202</td>\n",
       "      <td>794</td>\n",
       "      <td>MOBEXRGVPK7PFEJZ</td>\n",
       "      <td>4.5</td>\n",
       "      <td>2 GB</td>\n",
       "    </tr>\n",
       "  </tbody>\n",
       "</table>\n",
       "</div>"
      ],
      "text/plain": [
       "                               Product Name  \\\n",
       "0         APPLE iPhone 8 Plus (Gold, 64 GB)   \n",
       "1  APPLE iPhone 8 Plus (Space Grey, 256 GB)   \n",
       "2      APPLE iPhone 8 Plus (Silver, 256 GB)   \n",
       "3           APPLE iPhone 8 (Silver, 256 GB)   \n",
       "4             APPLE iPhone 8 (Gold, 256 GB)   \n",
       "\n",
       "                                         Product URL  Brand  Sale Price  \\\n",
       "0  https://www.flipkart.com/apple-iphone-8-plus-g...  Apple       49900   \n",
       "1  https://www.flipkart.com/apple-iphone-8-plus-s...  Apple       84900   \n",
       "2  https://www.flipkart.com/apple-iphone-8-plus-s...  Apple       84900   \n",
       "3  https://www.flipkart.com/apple-iphone-8-silver...  Apple       77000   \n",
       "4  https://www.flipkart.com/apple-iphone-8-gold-2...  Apple       77000   \n",
       "\n",
       "     Mrp  Discount Percentage  Number Of Ratings  Number Of Reviews  \\\n",
       "0  49900                    0               3431                356   \n",
       "1  84900                    0               3431                356   \n",
       "2  84900                    0               3431                356   \n",
       "3  77000                    0              11202                794   \n",
       "4  77000                    0              11202                794   \n",
       "\n",
       "                Upc  Star Rating   Ram  \n",
       "0  MOBEXRGV7EHHTGUH          4.6  2 GB  \n",
       "1  MOBEXRGVAC6TJT4F          4.6  2 GB  \n",
       "2  MOBEXRGVGETABXWZ          4.6  2 GB  \n",
       "3  MOBEXRGVMZWUHCBA          4.5  2 GB  \n",
       "4  MOBEXRGVPK7PFEJZ          4.5  2 GB  "
      ]
     },
     "execution_count": 4,
     "metadata": {},
     "output_type": "execute_result"
    }
   ],
   "source": [
    "# Show the content inside the dataset\n",
    "df.head()"
   ]
  },
  {
   "cell_type": "code",
   "execution_count": 5,
   "id": "833749b2-5492-4334-94a3-10907add2537",
   "metadata": {},
   "outputs": [
    {
     "data": {
      "text/plain": [
       "Product Name           62\n",
       "Product URL            62\n",
       "Brand                  62\n",
       "Sale Price             62\n",
       "Mrp                    62\n",
       "Discount Percentage    62\n",
       "Number Of Ratings      62\n",
       "Number Of Reviews      62\n",
       "Upc                    62\n",
       "Star Rating            62\n",
       "Ram                    62\n",
       "dtype: int64"
      ]
     },
     "execution_count": 5,
     "metadata": {},
     "output_type": "execute_result"
    }
   ],
   "source": [
    "# Count the rows\n",
    "df.count()"
   ]
  },
  {
   "cell_type": "code",
   "execution_count": 6,
   "id": "f940a409-145a-4b6a-95b1-6a56f0f62e5f",
   "metadata": {},
   "outputs": [],
   "source": [
    "# Add a column named Model Name\n",
    "df['Model Name']= df['Product Name'].str[6:15]"
   ]
  },
  {
   "cell_type": "code",
   "execution_count": 7,
   "id": "ec72942e-c057-427e-81e9-a81f47587929",
   "metadata": {},
   "outputs": [
    {
     "data": {
      "text/plain": [
       "0     iPhone 8 \n",
       "1     iPhone 8 \n",
       "2     iPhone 8 \n",
       "3     iPhone 8 \n",
       "4     iPhone 8 \n",
       "        ...    \n",
       "57    iPhone SE\n",
       "58    iPhone 11\n",
       "59    iPhone 11\n",
       "60    iPhone 11\n",
       "61    iPhone 11\n",
       "Name: Model Name, Length: 62, dtype: object"
      ]
     },
     "execution_count": 7,
     "metadata": {},
     "output_type": "execute_result"
    }
   ],
   "source": [
    "df['Model Name']"
   ]
  },
  {
   "cell_type": "code",
   "execution_count": 8,
   "id": "894301fa-3f96-4c18-8880-2fc8f4ba1658",
   "metadata": {},
   "outputs": [
    {
     "data": {
      "text/html": [
       "<div>\n",
       "<style scoped>\n",
       "    .dataframe tbody tr th:only-of-type {\n",
       "        vertical-align: middle;\n",
       "    }\n",
       "\n",
       "    .dataframe tbody tr th {\n",
       "        vertical-align: top;\n",
       "    }\n",
       "\n",
       "    .dataframe thead th {\n",
       "        text-align: right;\n",
       "    }\n",
       "</style>\n",
       "<table border=\"1\" class=\"dataframe\">\n",
       "  <thead>\n",
       "    <tr style=\"text-align: right;\">\n",
       "      <th></th>\n",
       "      <th>Product Name</th>\n",
       "      <th>Product URL</th>\n",
       "      <th>Brand</th>\n",
       "      <th>Sale Price</th>\n",
       "      <th>Mrp</th>\n",
       "      <th>Discount Percentage</th>\n",
       "      <th>Number Of Ratings</th>\n",
       "      <th>Number Of Reviews</th>\n",
       "      <th>Upc</th>\n",
       "      <th>Star Rating</th>\n",
       "      <th>Ram</th>\n",
       "      <th>Model Name</th>\n",
       "    </tr>\n",
       "  </thead>\n",
       "  <tbody>\n",
       "    <tr>\n",
       "      <th>0</th>\n",
       "      <td>APPLE iPhone 8 Plus (Gold, 64 GB)</td>\n",
       "      <td>https://www.flipkart.com/apple-iphone-8-plus-g...</td>\n",
       "      <td>Apple</td>\n",
       "      <td>49900</td>\n",
       "      <td>49900</td>\n",
       "      <td>0</td>\n",
       "      <td>3431</td>\n",
       "      <td>356</td>\n",
       "      <td>MOBEXRGV7EHHTGUH</td>\n",
       "      <td>4.6</td>\n",
       "      <td>2 GB</td>\n",
       "      <td>iPhone 8</td>\n",
       "    </tr>\n",
       "    <tr>\n",
       "      <th>1</th>\n",
       "      <td>APPLE iPhone 8 Plus (Space Grey, 256 GB)</td>\n",
       "      <td>https://www.flipkart.com/apple-iphone-8-plus-s...</td>\n",
       "      <td>Apple</td>\n",
       "      <td>84900</td>\n",
       "      <td>84900</td>\n",
       "      <td>0</td>\n",
       "      <td>3431</td>\n",
       "      <td>356</td>\n",
       "      <td>MOBEXRGVAC6TJT4F</td>\n",
       "      <td>4.6</td>\n",
       "      <td>2 GB</td>\n",
       "      <td>iPhone 8</td>\n",
       "    </tr>\n",
       "    <tr>\n",
       "      <th>2</th>\n",
       "      <td>APPLE iPhone 8 Plus (Silver, 256 GB)</td>\n",
       "      <td>https://www.flipkart.com/apple-iphone-8-plus-s...</td>\n",
       "      <td>Apple</td>\n",
       "      <td>84900</td>\n",
       "      <td>84900</td>\n",
       "      <td>0</td>\n",
       "      <td>3431</td>\n",
       "      <td>356</td>\n",
       "      <td>MOBEXRGVGETABXWZ</td>\n",
       "      <td>4.6</td>\n",
       "      <td>2 GB</td>\n",
       "      <td>iPhone 8</td>\n",
       "    </tr>\n",
       "    <tr>\n",
       "      <th>3</th>\n",
       "      <td>APPLE iPhone 8 (Silver, 256 GB)</td>\n",
       "      <td>https://www.flipkart.com/apple-iphone-8-silver...</td>\n",
       "      <td>Apple</td>\n",
       "      <td>77000</td>\n",
       "      <td>77000</td>\n",
       "      <td>0</td>\n",
       "      <td>11202</td>\n",
       "      <td>794</td>\n",
       "      <td>MOBEXRGVMZWUHCBA</td>\n",
       "      <td>4.5</td>\n",
       "      <td>2 GB</td>\n",
       "      <td>iPhone 8</td>\n",
       "    </tr>\n",
       "    <tr>\n",
       "      <th>4</th>\n",
       "      <td>APPLE iPhone 8 (Gold, 256 GB)</td>\n",
       "      <td>https://www.flipkart.com/apple-iphone-8-gold-2...</td>\n",
       "      <td>Apple</td>\n",
       "      <td>77000</td>\n",
       "      <td>77000</td>\n",
       "      <td>0</td>\n",
       "      <td>11202</td>\n",
       "      <td>794</td>\n",
       "      <td>MOBEXRGVPK7PFEJZ</td>\n",
       "      <td>4.5</td>\n",
       "      <td>2 GB</td>\n",
       "      <td>iPhone 8</td>\n",
       "    </tr>\n",
       "  </tbody>\n",
       "</table>\n",
       "</div>"
      ],
      "text/plain": [
       "                               Product Name  \\\n",
       "0         APPLE iPhone 8 Plus (Gold, 64 GB)   \n",
       "1  APPLE iPhone 8 Plus (Space Grey, 256 GB)   \n",
       "2      APPLE iPhone 8 Plus (Silver, 256 GB)   \n",
       "3           APPLE iPhone 8 (Silver, 256 GB)   \n",
       "4             APPLE iPhone 8 (Gold, 256 GB)   \n",
       "\n",
       "                                         Product URL  Brand  Sale Price  \\\n",
       "0  https://www.flipkart.com/apple-iphone-8-plus-g...  Apple       49900   \n",
       "1  https://www.flipkart.com/apple-iphone-8-plus-s...  Apple       84900   \n",
       "2  https://www.flipkart.com/apple-iphone-8-plus-s...  Apple       84900   \n",
       "3  https://www.flipkart.com/apple-iphone-8-silver...  Apple       77000   \n",
       "4  https://www.flipkart.com/apple-iphone-8-gold-2...  Apple       77000   \n",
       "\n",
       "     Mrp  Discount Percentage  Number Of Ratings  Number Of Reviews  \\\n",
       "0  49900                    0               3431                356   \n",
       "1  84900                    0               3431                356   \n",
       "2  84900                    0               3431                356   \n",
       "3  77000                    0              11202                794   \n",
       "4  77000                    0              11202                794   \n",
       "\n",
       "                Upc  Star Rating   Ram Model Name  \n",
       "0  MOBEXRGV7EHHTGUH          4.6  2 GB  iPhone 8   \n",
       "1  MOBEXRGVAC6TJT4F          4.6  2 GB  iPhone 8   \n",
       "2  MOBEXRGVGETABXWZ          4.6  2 GB  iPhone 8   \n",
       "3  MOBEXRGVMZWUHCBA          4.5  2 GB  iPhone 8   \n",
       "4  MOBEXRGVPK7PFEJZ          4.5  2 GB  iPhone 8   "
      ]
     },
     "execution_count": 8,
     "metadata": {},
     "output_type": "execute_result"
    }
   ],
   "source": [
    "# Show the newly added column\n",
    "df.head()"
   ]
  },
  {
   "cell_type": "code",
   "execution_count": 9,
   "id": "45596148-555c-4536-85b8-e588727061c5",
   "metadata": {},
   "outputs": [
    {
     "data": {
      "text/html": [
       "<div>\n",
       "<style scoped>\n",
       "    .dataframe tbody tr th:only-of-type {\n",
       "        vertical-align: middle;\n",
       "    }\n",
       "\n",
       "    .dataframe tbody tr th {\n",
       "        vertical-align: top;\n",
       "    }\n",
       "\n",
       "    .dataframe thead th {\n",
       "        text-align: right;\n",
       "    }\n",
       "</style>\n",
       "<table border=\"1\" class=\"dataframe\">\n",
       "  <thead>\n",
       "    <tr style=\"text-align: right;\">\n",
       "      <th></th>\n",
       "      <th>Product Name</th>\n",
       "      <th>Product URL</th>\n",
       "      <th>Brand</th>\n",
       "      <th>Sale Price</th>\n",
       "      <th>Mrp</th>\n",
       "      <th>Discount Percentage</th>\n",
       "      <th>Number Of Ratings</th>\n",
       "      <th>Number Of Reviews</th>\n",
       "      <th>Upc</th>\n",
       "      <th>Star Rating</th>\n",
       "      <th>Ram</th>\n",
       "      <th>Model Name</th>\n",
       "    </tr>\n",
       "  </thead>\n",
       "  <tbody>\n",
       "    <tr>\n",
       "      <th>20</th>\n",
       "      <td>APPLE iPhone 11 Pro Max (Midnight Green, 64 GB)</td>\n",
       "      <td>https://www.flipkart.com/apple-iphone-11-pro-m...</td>\n",
       "      <td>Apple</td>\n",
       "      <td>117100</td>\n",
       "      <td>117100</td>\n",
       "      <td>0</td>\n",
       "      <td>1078</td>\n",
       "      <td>101</td>\n",
       "      <td>MOBFKCTSRYPAQNYT</td>\n",
       "      <td>4.7</td>\n",
       "      <td>4 GB</td>\n",
       "      <td>iPhone 11</td>\n",
       "    </tr>\n",
       "    <tr>\n",
       "      <th>17</th>\n",
       "      <td>APPLE iPhone 11 Pro Max (Space Grey, 64 GB)</td>\n",
       "      <td>https://www.flipkart.com/apple-iphone-11-pro-m...</td>\n",
       "      <td>Apple</td>\n",
       "      <td>117100</td>\n",
       "      <td>117100</td>\n",
       "      <td>0</td>\n",
       "      <td>1078</td>\n",
       "      <td>101</td>\n",
       "      <td>MOBFKCTSKDMKCGQS</td>\n",
       "      <td>4.7</td>\n",
       "      <td>4 GB</td>\n",
       "      <td>iPhone 11</td>\n",
       "    </tr>\n",
       "    <tr>\n",
       "      <th>16</th>\n",
       "      <td>APPLE iPhone 11 Pro Max (Midnight Green, 256 GB)</td>\n",
       "      <td>https://www.flipkart.com/apple-iphone-11-pro-m...</td>\n",
       "      <td>Apple</td>\n",
       "      <td>131900</td>\n",
       "      <td>131900</td>\n",
       "      <td>0</td>\n",
       "      <td>1078</td>\n",
       "      <td>101</td>\n",
       "      <td>MOBFKCTSCAAKGQV7</td>\n",
       "      <td>4.7</td>\n",
       "      <td>4 GB</td>\n",
       "      <td>iPhone 11</td>\n",
       "    </tr>\n",
       "    <tr>\n",
       "      <th>15</th>\n",
       "      <td>APPLE iPhone 11 Pro Max (Gold, 64 GB)</td>\n",
       "      <td>https://www.flipkart.com/apple-iphone-11-pro-m...</td>\n",
       "      <td>Apple</td>\n",
       "      <td>117100</td>\n",
       "      <td>117100</td>\n",
       "      <td>0</td>\n",
       "      <td>1078</td>\n",
       "      <td>101</td>\n",
       "      <td>MOBFKCTSAPAYNSGG</td>\n",
       "      <td>4.7</td>\n",
       "      <td>4 GB</td>\n",
       "      <td>iPhone 11</td>\n",
       "    </tr>\n",
       "    <tr>\n",
       "      <th>14</th>\n",
       "      <td>APPLE iPhone 11 Pro Max (Gold, 256 GB)</td>\n",
       "      <td>https://www.flipkart.com/apple-iphone-11-pro-m...</td>\n",
       "      <td>Apple</td>\n",
       "      <td>131900</td>\n",
       "      <td>131900</td>\n",
       "      <td>0</td>\n",
       "      <td>1078</td>\n",
       "      <td>101</td>\n",
       "      <td>MOBFKCTS7HCHSPFH</td>\n",
       "      <td>4.7</td>\n",
       "      <td>4 GB</td>\n",
       "      <td>iPhone 11</td>\n",
       "    </tr>\n",
       "    <tr>\n",
       "      <th>...</th>\n",
       "      <td>...</td>\n",
       "      <td>...</td>\n",
       "      <td>...</td>\n",
       "      <td>...</td>\n",
       "      <td>...</td>\n",
       "      <td>...</td>\n",
       "      <td>...</td>\n",
       "      <td>...</td>\n",
       "      <td>...</td>\n",
       "      <td>...</td>\n",
       "      <td>...</td>\n",
       "      <td>...</td>\n",
       "    </tr>\n",
       "    <tr>\n",
       "      <th>45</th>\n",
       "      <td>APPLE iPhone 12 Mini (Black, 64 GB)</td>\n",
       "      <td>https://www.flipkart.com/apple-iphone-12-mini-...</td>\n",
       "      <td>Apple</td>\n",
       "      <td>59900</td>\n",
       "      <td>69900</td>\n",
       "      <td>14</td>\n",
       "      <td>740</td>\n",
       "      <td>64</td>\n",
       "      <td>MOBFWBYZXSEGBS6F</td>\n",
       "      <td>4.5</td>\n",
       "      <td>4 GB</td>\n",
       "      <td>iPhone 12</td>\n",
       "    </tr>\n",
       "    <tr>\n",
       "      <th>28</th>\n",
       "      <td>APPLE iPhone 12 Mini (White, 64 GB)</td>\n",
       "      <td>https://www.flipkart.com/apple-iphone-12-mini-...</td>\n",
       "      <td>Apple</td>\n",
       "      <td>59900</td>\n",
       "      <td>69900</td>\n",
       "      <td>14</td>\n",
       "      <td>740</td>\n",
       "      <td>64</td>\n",
       "      <td>MOBFWBYZBH4CEC4C</td>\n",
       "      <td>4.5</td>\n",
       "      <td>4 GB</td>\n",
       "      <td>iPhone 12</td>\n",
       "    </tr>\n",
       "    <tr>\n",
       "      <th>23</th>\n",
       "      <td>Apple iPhone SE (White, 256 GB) (Includes EarP...</td>\n",
       "      <td>https://www.flipkart.com/apple-iphone-se-white...</td>\n",
       "      <td>Apple</td>\n",
       "      <td>44999</td>\n",
       "      <td>54900</td>\n",
       "      <td>18</td>\n",
       "      <td>95909</td>\n",
       "      <td>8161</td>\n",
       "      <td>MOBFRFXHPZCHAPEH</td>\n",
       "      <td>4.5</td>\n",
       "      <td>2 GB</td>\n",
       "      <td>iPhone SE</td>\n",
       "    </tr>\n",
       "    <tr>\n",
       "      <th>41</th>\n",
       "      <td>APPLE iPhone 12 Pro (Pacific Blue, 512 GB)</td>\n",
       "      <td>https://www.flipkart.com/apple-iphone-12-pro-p...</td>\n",
       "      <td>Apple</td>\n",
       "      <td>140900</td>\n",
       "      <td>149900</td>\n",
       "      <td>6</td>\n",
       "      <td>545</td>\n",
       "      <td>42</td>\n",
       "      <td>MOBFWBYZTHSXKMGW</td>\n",
       "      <td>4.5</td>\n",
       "      <td>4 GB</td>\n",
       "      <td>iPhone 12</td>\n",
       "    </tr>\n",
       "    <tr>\n",
       "      <th>27</th>\n",
       "      <td>APPLE iPhone 12 Pro (Graphite, 256 GB)</td>\n",
       "      <td>https://www.flipkart.com/apple-iphone-12-pro-g...</td>\n",
       "      <td>Apple</td>\n",
       "      <td>120900</td>\n",
       "      <td>129900</td>\n",
       "      <td>6</td>\n",
       "      <td>545</td>\n",
       "      <td>42</td>\n",
       "      <td>MOBFWBYZBA36UB7G</td>\n",
       "      <td>4.5</td>\n",
       "      <td>6 GB</td>\n",
       "      <td>iPhone 12</td>\n",
       "    </tr>\n",
       "  </tbody>\n",
       "</table>\n",
       "<p>62 rows × 12 columns</p>\n",
       "</div>"
      ],
      "text/plain": [
       "                                         Product Name  \\\n",
       "20    APPLE iPhone 11 Pro Max (Midnight Green, 64 GB)   \n",
       "17        APPLE iPhone 11 Pro Max (Space Grey, 64 GB)   \n",
       "16   APPLE iPhone 11 Pro Max (Midnight Green, 256 GB)   \n",
       "15              APPLE iPhone 11 Pro Max (Gold, 64 GB)   \n",
       "14             APPLE iPhone 11 Pro Max (Gold, 256 GB)   \n",
       "..                                                ...   \n",
       "45                APPLE iPhone 12 Mini (Black, 64 GB)   \n",
       "28                APPLE iPhone 12 Mini (White, 64 GB)   \n",
       "23  Apple iPhone SE (White, 256 GB) (Includes EarP...   \n",
       "41         APPLE iPhone 12 Pro (Pacific Blue, 512 GB)   \n",
       "27             APPLE iPhone 12 Pro (Graphite, 256 GB)   \n",
       "\n",
       "                                          Product URL  Brand  Sale Price  \\\n",
       "20  https://www.flipkart.com/apple-iphone-11-pro-m...  Apple      117100   \n",
       "17  https://www.flipkart.com/apple-iphone-11-pro-m...  Apple      117100   \n",
       "16  https://www.flipkart.com/apple-iphone-11-pro-m...  Apple      131900   \n",
       "15  https://www.flipkart.com/apple-iphone-11-pro-m...  Apple      117100   \n",
       "14  https://www.flipkart.com/apple-iphone-11-pro-m...  Apple      131900   \n",
       "..                                                ...    ...         ...   \n",
       "45  https://www.flipkart.com/apple-iphone-12-mini-...  Apple       59900   \n",
       "28  https://www.flipkart.com/apple-iphone-12-mini-...  Apple       59900   \n",
       "23  https://www.flipkart.com/apple-iphone-se-white...  Apple       44999   \n",
       "41  https://www.flipkart.com/apple-iphone-12-pro-p...  Apple      140900   \n",
       "27  https://www.flipkart.com/apple-iphone-12-pro-g...  Apple      120900   \n",
       "\n",
       "       Mrp  Discount Percentage  Number Of Ratings  Number Of Reviews  \\\n",
       "20  117100                    0               1078                101   \n",
       "17  117100                    0               1078                101   \n",
       "16  131900                    0               1078                101   \n",
       "15  117100                    0               1078                101   \n",
       "14  131900                    0               1078                101   \n",
       "..     ...                  ...                ...                ...   \n",
       "45   69900                   14                740                 64   \n",
       "28   69900                   14                740                 64   \n",
       "23   54900                   18              95909               8161   \n",
       "41  149900                    6                545                 42   \n",
       "27  129900                    6                545                 42   \n",
       "\n",
       "                 Upc  Star Rating   Ram Model Name  \n",
       "20  MOBFKCTSRYPAQNYT          4.7  4 GB  iPhone 11  \n",
       "17  MOBFKCTSKDMKCGQS          4.7  4 GB  iPhone 11  \n",
       "16  MOBFKCTSCAAKGQV7          4.7  4 GB  iPhone 11  \n",
       "15  MOBFKCTSAPAYNSGG          4.7  4 GB  iPhone 11  \n",
       "14  MOBFKCTS7HCHSPFH          4.7  4 GB  iPhone 11  \n",
       "..               ...          ...   ...        ...  \n",
       "45  MOBFWBYZXSEGBS6F          4.5  4 GB  iPhone 12  \n",
       "28  MOBFWBYZBH4CEC4C          4.5  4 GB  iPhone 12  \n",
       "23  MOBFRFXHPZCHAPEH          4.5  2 GB  iPhone SE  \n",
       "41  MOBFWBYZTHSXKMGW          4.5  4 GB  iPhone 12  \n",
       "27  MOBFWBYZBA36UB7G          4.5  6 GB  iPhone 12  \n",
       "\n",
       "[62 rows x 12 columns]"
      ]
     },
     "execution_count": 9,
     "metadata": {},
     "output_type": "execute_result"
    }
   ],
   "source": [
    "# Sorting dataset by Star Ratings\n",
    "df.sort_values(by=['Star Rating'],ascending=False)"
   ]
  },
  {
   "cell_type": "code",
   "execution_count": 10,
   "id": "ed711431-2581-43c5-87d9-29f6160d0ac5",
   "metadata": {},
   "outputs": [
    {
     "name": "stdout",
     "output_type": "stream",
     "text": [
      "The range of prices for the Apple iPhone products in the dataset is between 29999 and 140900\n"
     ]
    }
   ],
   "source": [
    "# What is the range of prices for the Apple iPhone products in the dataset?\n",
    "min_price=df['Sale Price'].min()\n",
    "max_price=df['Sale Price'].max()\n",
    "print(f\"The range of prices for the Apple iPhone products in the dataset is between {min_price} and {max_price}\")"
   ]
  },
  {
   "cell_type": "code",
   "execution_count": 11,
   "id": "a7e30c27-fb9a-4b9f-ac67-6ff40cd54fa7",
   "metadata": {},
   "outputs": [
    {
     "name": "stdout",
     "output_type": "stream",
     "text": [
      " There are 6 different models of iPhones are included in the dataset\n"
     ]
    }
   ],
   "source": [
    "# How many different models of iPhones are included in the dataset?\n",
    "model_num=df['Model Name'].nunique()\n",
    "print(f\" There are {model_num} different models of iPhones are included in the dataset\")"
   ]
  },
  {
   "cell_type": "code",
   "execution_count": 12,
   "id": "3f080ca4-83da-4c93-b286-a4dfacef08bc",
   "metadata": {},
   "outputs": [
    {
     "name": "stdout",
     "output_type": "stream",
     "text": [
      " The average discount percentage for all iPhones is 9.95%.\n"
     ]
    }
   ],
   "source": [
    "# Calculate the average discount percentage for all iPhones\n",
    "average_discount_percentage=df['Discount Percentage'].mean()\n",
    "print(f\" The average discount percentage for all iPhones is {average_discount_percentage:.2f}%.\")"
   ]
  },
  {
   "cell_type": "code",
   "execution_count": 13,
   "id": "d4d24cdc-45a3-46fc-8b5f-9df60555e981",
   "metadata": {},
   "outputs": [
    {
     "name": "stdout",
     "output_type": "stream",
     "text": [
      " The iPhone model with the highest number of reviews is iPhone SE.\n"
     ]
    }
   ],
   "source": [
    "# Find the iPhone model with the highest number of reviews\n",
    "max_reviews=df.loc[df['Number Of Reviews'].idxmax()]['Model Name']\n",
    "print(f\" The iPhone model with the highest number of reviews is {max_reviews}.\")"
   ]
  },
  {
   "cell_type": "code",
   "execution_count": 14,
   "id": "20133d3b-3a67-4b60-b503-2f60faaffb9a",
   "metadata": {},
   "outputs": [
    {
     "name": "stdout",
     "output_type": "stream",
     "text": [
      " The iPhone model with the highest and lowest sale prices are iPhone 12 and iPhone SE.\n"
     ]
    }
   ],
   "source": [
    "# identify the iPhone model with the highest and lowest sale prices.\n",
    "highest_sales_price=df.loc[df['Sale Price'].idxmax()]['Model Name']\n",
    "lowest_sales_price=df.loc[df['Sale Price'].idxmin()]['Model Name']\n",
    "print(f\" The iPhone model with the highest and lowest sale prices are {highest_sales_price} and {lowest_sales_price}.\")"
   ]
  },
  {
   "cell_type": "code",
   "execution_count": 15,
   "id": "bff6615d-2829-4057-9ba8-884170f594e3",
   "metadata": {},
   "outputs": [
    {
     "name": "stdout",
     "output_type": "stream",
     "text": [
      "The correlation between the number of ratings and star rating is: -0.22\n"
     ]
    }
   ],
   "source": [
    "# Is there a correlation between the number of ratings and the star rating of the products?\n",
    "\n",
    "# Calculate the correlation coefficient\n",
    "correlation = df['Number Of Ratings'].corr(df['Star Rating'])\n",
    "print(f\"The correlation between the number of ratings and star rating is: {correlation:.2f}\")\n",
    "\n",
    "# Interpretation: As the correlation coefficient is near zero, it shows a negative correlation."
   ]
  },
  {
   "cell_type": "code",
   "execution_count": 16,
   "id": "4fb909b4-a0a5-4c5f-9f6e-a030edf5ffee",
   "metadata": {},
   "outputs": [
    {
     "name": "stdout",
     "output_type": "stream",
     "text": [
      "There are 1 different brands are present in the dataset\n"
     ]
    }
   ],
   "source": [
    "# How many different brands are present in the dataset?\n",
    "brand=df['Brand'].nunique()\n",
    "print(f\"There are {brand} different brands are present in the dataset\")"
   ]
  },
  {
   "cell_type": "code",
   "execution_count": 17,
   "id": "ed352562-fc0f-410c-868f-07a924b99e6f",
   "metadata": {},
   "outputs": [
    {
     "name": "stdout",
     "output_type": "stream",
     "text": [
      "Average Star Ratings for Different iPhone Models:\n",
      "Model Name\n",
      "iPhone 11    4.631250\n",
      "iPhone 12    4.557692\n",
      "iPhone 8     4.562500\n",
      "iPhone SE    4.500000\n",
      "iPhone XR    4.600000\n",
      "iPhone XS    4.600000\n",
      "Name: Star Rating, dtype: float64\n"
     ]
    }
   ],
   "source": [
    "# Can you compare the average star ratings for different iPhone models?\n",
    "average_star_ratings = df.groupby('Model Name')['Star Rating'].mean()\n",
    "print(f\"Average Star Ratings for Different iPhone Models:\")\n",
    "print(average_star_ratings)"
   ]
  },
  {
   "cell_type": "code",
   "execution_count": 18,
   "id": "d2058a67-702b-40a0-bea2-8fd7c9372200",
   "metadata": {},
   "outputs": [
    {
     "name": "stdout",
     "output_type": "stream",
     "text": [
      "The overall average Star Rating for all the iPhones in the dataset 4.58\n"
     ]
    }
   ],
   "source": [
    "# What is the overall average star rating for all the iPhones in the dataset?\n",
    "average_star_rating = df['Star Rating'].mean()\n",
    "print(f\"The overall average Star Rating for all the iPhones in the dataset {average_star_rating:.2f}\")"
   ]
  },
  {
   "cell_type": "code",
   "execution_count": 19,
   "id": "a1e6db82-4b2a-40ba-9827-90c24e3e671f",
   "metadata": {},
   "outputs": [
    {
     "name": "stdout",
     "output_type": "stream",
     "text": [
      "Average discount percentage for each iPhone Model:\n",
      "Model Name\n",
      "iPhone 11     9.750000\n",
      "iPhone 12     8.961538\n",
      "iPhone 8      0.000000\n",
      "iPhone SE    22.000000\n",
      "iPhone XR    19.200000\n",
      "iPhone XS     0.000000\n",
      "Name: Discount Percentage, dtype: float64\n"
     ]
    }
   ],
   "source": [
    "# Can you calculate the average discount percentage for each iPhone model?\n",
    "average_discount_percentage= df.groupby('Model Name')['Discount Percentage'].mean()\n",
    "print(f\"Average discount percentage for each iPhone Model:\")\n",
    "print(average_discount_percentage)"
   ]
  },
  {
   "cell_type": "code",
   "execution_count": 20,
   "id": "41d67627-3ba5-4b59-97fb-c539d77f9f88",
   "metadata": {},
   "outputs": [
    {
     "name": "stdout",
     "output_type": "stream",
     "text": [
      "Missing Values in the Dataset:\n",
      "Product Name           0\n",
      "Product URL            0\n",
      "Brand                  0\n",
      "Sale Price             0\n",
      "Mrp                    0\n",
      "Discount Percentage    0\n",
      "Number Of Ratings      0\n",
      "Number Of Reviews      0\n",
      "Upc                    0\n",
      "Star Rating            0\n",
      "Ram                    0\n",
      "Model Name             0\n",
      "dtype: int64\n"
     ]
    }
   ],
   "source": [
    "# Are there any missing values in the dataset? How would you handle them?\n",
    "missing_values = df.isnull().sum()\n",
    "print(\"Missing Values in the Dataset:\")\n",
    "print(missing_values)"
   ]
  },
  {
   "cell_type": "code",
   "execution_count": 21,
   "id": "f9fa02e8-179c-4683-893d-a8763a2b1d19",
   "metadata": {},
   "outputs": [
    {
     "name": "stdout",
     "output_type": "stream",
     "text": [
      "Unique iPhone Models:\n",
      "['iPhone 8 ' 'iPhone XS' 'iPhone XR' 'iPhone 11' 'iPhone SE' 'iPhone 12']\n"
     ]
    }
   ],
   "source": [
    "# Is there any unusual or inconsistent data that stands out?\n",
    "unique_models = df['Model Name'].unique()\n",
    "print(\"Unique iPhone Models:\")\n",
    "print(unique_models)"
   ]
  },
  {
   "cell_type": "code",
   "execution_count": 22,
   "id": "111d9e2d-4108-4536-98d8-4c624d07aed2",
   "metadata": {},
   "outputs": [
    {
     "name": "stdout",
     "output_type": "stream",
     "text": [
      "Average Number of Ratings and Reviews for Each iPhone Model:\n",
      "            Number Of Ratings  Number Of Reviews\n",
      "Model Name                                      \n",
      "iPhone 11        21156.187500        1622.812500\n",
      "iPhone 12         1018.115385          84.923077\n",
      "iPhone 8          6345.125000         520.250000\n",
      "iPhone SE        95875.000000        8158.666667\n",
      "iPhone XR        79526.000000        6797.600000\n",
      "iPhone XS         1454.000000         149.000000\n"
     ]
    }
   ],
   "source": [
    "# How does the number of ratings and reviews vary across different iPhone models?\n",
    "average_ratings_reviews_per_model = df.groupby('Model Name')[['Number Of Ratings', 'Number Of Reviews']].mean()\n",
    "print(\"Average Number of Ratings and Reviews for Each iPhone Model:\")\n",
    "print(average_ratings_reviews_per_model)"
   ]
  },
  {
   "cell_type": "code",
   "execution_count": null,
   "id": "f154c1d6-feb5-46e3-bce6-168c63f0dae6",
   "metadata": {},
   "outputs": [],
   "source": []
  }
 ],
 "metadata": {
  "kernelspec": {
   "display_name": "Python 3 (ipykernel)",
   "language": "python",
   "name": "python3"
  },
  "language_info": {
   "codemirror_mode": {
    "name": "ipython",
    "version": 3
   },
   "file_extension": ".py",
   "mimetype": "text/x-python",
   "name": "python",
   "nbconvert_exporter": "python",
   "pygments_lexer": "ipython3",
   "version": "3.12.0"
  }
 },
 "nbformat": 4,
 "nbformat_minor": 5
}
